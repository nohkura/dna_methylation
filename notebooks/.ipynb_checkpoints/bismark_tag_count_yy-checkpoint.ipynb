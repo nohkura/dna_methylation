{
 "cells": [
  {
   "cell_type": "markdown",
   "metadata": {},
   "source": [
    "# 2019/03/08　Y.Y."
   ]
  },
  {
   "cell_type": "code",
   "execution_count": 25,
   "metadata": {},
   "outputs": [
    {
     "name": "stdout",
     "output_type": "stream",
     "text": [
      "Requirement already satisfied: numexpr in /Users/yasumizuyoshiaki/.pyenv/versions/anaconda3-4.2.0/lib/python3.5/site-packages (2.6.6)\n",
      "Requirement already satisfied: numpy>=1.7 in /Users/yasumizuyoshiaki/.pyenv/versions/anaconda3-4.2.0/lib/python3.5/site-packages (from numexpr) (1.15.2)\n",
      "\u001b[33mYou are using pip version 18.0, however version 19.0.3 is available.\n",
      "You should consider upgrading via the 'pip install --upgrade pip' command.\u001b[0m\n"
     ]
    }
   ],
   "source": [
    "!pip install numexpr"
   ]
  },
  {
   "cell_type": "code",
   "execution_count": 1,
   "metadata": {},
   "outputs": [],
   "source": [
    "import sys\n",
    "import pandas as pd\n",
    "import numpy as np"
   ]
  },
  {
   "cell_type": "code",
   "execution_count": 2,
   "metadata": {},
   "outputs": [],
   "source": [
    "input_bismark_file = '../test/test_1000line_CpG_naive_pTreg.sort.bismark.cov'\n",
    "input_bed_file = '../test/test_1000_chrominfo_mm10.bed'"
   ]
  },
  {
   "cell_type": "code",
   "execution_count": 3,
   "metadata": {},
   "outputs": [
    {
     "name": "stdout",
     "output_type": "stream",
     "text": [
      "chr1\t2999601\t3001600\n",
      "chr1\t3000001\t3002000\n",
      "chr1\t3000401\t3002400\n",
      "chr1\t3000801\t3002800\n",
      "chr1\t3001201\t3003200\n",
      "chr1\t3001601\t3003600\n",
      "chr1\t3002001\t3004000\n",
      "chr1\t3002401\t3004400\n",
      "chr1\t3002801\t3004800\n",
      "chr1\t3003201\t3005200\n"
     ]
    }
   ],
   "source": [
    "!head ../test/test_1000_chrominfo_mm10.bed"
   ]
  },
  {
   "cell_type": "code",
   "execution_count": 4,
   "metadata": {},
   "outputs": [
    {
     "name": "stdout",
     "output_type": "stream",
     "text": [
      "CPU times: user 39.5 ms, sys: 5.94 ms, total: 45.5 ms\n",
      "Wall time: 48.6 ms\n"
     ]
    }
   ],
   "source": [
    "%%time\n",
    "\n",
    "df_bismark = pd.read_csv(input_bismark_file, sep='\\t', names=('chr', 'start', 'end', 'methyl_per','methyl','de_methyl'))\n",
    "\n",
    "drop_row = ['end', 'methyl_per']\n",
    "df_bismark_drop=df_bismark.drop(drop_row, axis=1)\n",
    "\n",
    "df_bed = pd.read_csv(input_bed_file, sep='\\t',names=('chr','start','end'))\n",
    "\n",
    "df_bed_list=[]\n",
    "df_bismark_list=[]\n",
    "\n",
    "chr_list=['chr1','chr10','chr11','chr12','chr13','chr14','chr15','chr16','chr17','chr18','chr19',\n",
    "'chr2','chr3','chr4','chr5','chr6','chr7','chr8','chr9','chrM','chrX','chrY']\n",
    "\n",
    "for i in range(len(chr_list)):\n",
    "    df_bed_chr=df_bed[df_bed['chr'] == chr_list[i]]\n",
    "    df_bed_list.append(df_bed_chr)\n",
    "\n",
    "for i in range(len(chr_list)):\n",
    "    df_bismark_chr=df_bismark_drop[df_bismark_drop['chr'] == chr_list[i]]\n",
    "    df_bismark_list.append(df_bismark_chr)"
   ]
  },
  {
   "cell_type": "markdown",
   "metadata": {},
   "source": [
    "```python\n",
    "for i in range(len(chr_list)):\n",
    "    df_bed_chr=df_bed[df_bed['chr'] == chr_list[i]]\n",
    "    df_bed_list.append(df_bed_chr)\n",
    "```\n",
    "\n",
    "- 本当はここは辞書型のほうがリストよりも使い勝手がいいと思われる。\n",
    "- df_bed_listよりもlist_df_bedのほうが好み（本質はdfではなくlistなので）\n",
    "- chr_list -> list_chr(同上)\n",
    "- df_bed_chrは捨て変数なので、_dとか適当なのでいいかな。（_は捨て変数のつもりで使ってる。本当はクラスとかの話だけど。　cf. https://teratail.com/questions/41277 ）\n",
    "- range(len(chr_list))は今回は無駄。`in list_chr`\n",
    "- `df_bed_chr=df_bed[df_bed['chr'] == chr_list[i]]`スペースのルールが気持ち悪い。\n",
    "- この部分は遅くはない。\n",
    "\n",
    "```python\n",
    "dict_df_bed = {}\n",
    "for i in range(len(chr_list)):\n",
    "    _d = df_bed[df_bed['chr'] == list_chr[i]]\n",
    "    dict_df_bed[c] = _d\n",
    "```"
   ]
  },
  {
   "cell_type": "code",
   "execution_count": 5,
   "metadata": {},
   "outputs": [],
   "source": [
    "i = 0"
   ]
  },
  {
   "cell_type": "code",
   "execution_count": 6,
   "metadata": {},
   "outputs": [],
   "source": [
    "bed=df_bed_list[i]\n",
    "bismark=df_bismark_list[i]\n",
    "bed_list=bed.values.tolist()"
   ]
  },
  {
   "cell_type": "markdown",
   "metadata": {},
   "source": [
    "- `tag_bed = pd.DataFrame(bed_list,index=False,,columns=('chr','start','end','methyl_sum','de_methyl_sum'))` ,が二個入ってた\n",
    "- appendは無限に増えていく可能性があるから怖いね。"
   ]
  },
  {
   "cell_type": "code",
   "execution_count": 7,
   "metadata": {},
   "outputs": [
    {
     "name": "stdout",
     "output_type": "stream",
     "text": [
      "CPU times: user 2.33 s, sys: 13.9 ms, total: 2.35 s\n",
      "Wall time: 2.36 s\n"
     ]
    }
   ],
   "source": [
    "%%time\n",
    "for j in range(len(bed_list)):\n",
    "    x=bed_list[j][1]\n",
    "    y=bed_list[j][2]\n",
    "\n",
    "    bismark_query=bismark.query(\"@x<= start<=@y\",engine='numexpr')\n",
    "    bed_list[j].append(bismark_query['methyl'].sum())\n",
    "    bed_list[j].append(bismark_query['de_methyl'].sum())\n"
   ]
  },
  {
   "cell_type": "raw",
   "metadata": {},
   "source": [
    "%%time\n",
    "for j in range(len(bed_list)):\n",
    "    x=bed_list[j][1]\n",
    "    y=bed_list[j][2]\n",
    "\n",
    "    bismark_query=bismark.query(\"@x<= start<=@y\")\n",
    "    bed_list[j].append(bismark_query['methyl'].sum())\n",
    "    bed_list[j].append(bismark_query['de_methyl'].sum())"
   ]
  },
  {
   "cell_type": "raw",
   "metadata": {},
   "source": [
    "%%time\n",
    "for j in range(len(bed_list)):\n",
    "    x=bed_list[j][1]\n",
    "    y=bed_list[j][2]\n",
    "\n",
    "    bismark_query=bismark.query(\"@x <= start & start <= @y\",engine='numexpr')\n",
    "    bed_list[j].append(bismark_query['methyl'].sum())\n",
    "    bed_list[j].append(bismark_query['de_methyl'].sum())"
   ]
  },
  {
   "cell_type": "raw",
   "metadata": {},
   "source": [
    "j = 0\n",
    "\n",
    "x=bed_list[j][1]\n",
    "y=bed_list[j][2]\n",
    "\n",
    "bismark_query=bismark.query(\"@x<= start<=@y\",engine='numexpr')\n",
    "bed_list[j].append(bismark_query['methyl'].sum())\n",
    "bed_list[j].append(bismark_query['de_methyl'].sum())"
   ]
  },
  {
   "cell_type": "markdown",
   "metadata": {},
   "source": [
    "その他諸々はslackで指摘したとおり。\n",
    "一応自分だったらこうするを載せておく。\n",
    "\n",
    "- bedをlistに戻さず、dataframeのままiterrowsで回す。\n",
    "- `df['new_col'] = list_sth`としていくと意図しない列を作らない。"
   ]
  },
  {
   "cell_type": "code",
   "execution_count": 13,
   "metadata": {},
   "outputs": [],
   "source": [
    "l_m = []\n",
    "l_dm = []\n",
    "\n",
    "for pos,row in bed.iterrows():\n",
    "    s=row['start']\n",
    "    e=row['end']\n",
    "\n",
    "    bismark_q=bismark.query(\"@s<= start<=@e\")\n",
    "    \n",
    "    l_m.append(bismark_q['methyl'].sum())\n",
    "    l_dm.append(bismark_q['de_methyl'].sum())\n",
    "\n",
    "bed['methyl'] = l_m \n",
    "bed['de_methyl'] = l_dm "
   ]
  },
  {
   "cell_type": "code",
   "execution_count": 14,
   "metadata": {},
   "outputs": [
    {
     "data": {
      "text/html": [
       "<div>\n",
       "<style scoped>\n",
       "    .dataframe tbody tr th:only-of-type {\n",
       "        vertical-align: middle;\n",
       "    }\n",
       "\n",
       "    .dataframe tbody tr th {\n",
       "        vertical-align: top;\n",
       "    }\n",
       "\n",
       "    .dataframe thead th {\n",
       "        text-align: right;\n",
       "    }\n",
       "</style>\n",
       "<table border=\"1\" class=\"dataframe\">\n",
       "  <thead>\n",
       "    <tr style=\"text-align: right;\">\n",
       "      <th></th>\n",
       "      <th>chr</th>\n",
       "      <th>start</th>\n",
       "      <th>end</th>\n",
       "      <th>methyl</th>\n",
       "      <th>de_methyl</th>\n",
       "    </tr>\n",
       "  </thead>\n",
       "  <tbody>\n",
       "    <tr>\n",
       "      <th>0</th>\n",
       "      <td>chr1</td>\n",
       "      <td>2999601</td>\n",
       "      <td>3001600</td>\n",
       "      <td>80</td>\n",
       "      <td>12</td>\n",
       "    </tr>\n",
       "    <tr>\n",
       "      <th>1</th>\n",
       "      <td>chr1</td>\n",
       "      <td>3000001</td>\n",
       "      <td>3002000</td>\n",
       "      <td>113</td>\n",
       "      <td>12</td>\n",
       "    </tr>\n",
       "    <tr>\n",
       "      <th>2</th>\n",
       "      <td>chr1</td>\n",
       "      <td>3000401</td>\n",
       "      <td>3002400</td>\n",
       "      <td>113</td>\n",
       "      <td>12</td>\n",
       "    </tr>\n",
       "    <tr>\n",
       "      <th>3</th>\n",
       "      <td>chr1</td>\n",
       "      <td>3000801</td>\n",
       "      <td>3002800</td>\n",
       "      <td>113</td>\n",
       "      <td>12</td>\n",
       "    </tr>\n",
       "    <tr>\n",
       "      <th>4</th>\n",
       "      <td>chr1</td>\n",
       "      <td>3001201</td>\n",
       "      <td>3003200</td>\n",
       "      <td>33</td>\n",
       "      <td>0</td>\n",
       "    </tr>\n",
       "  </tbody>\n",
       "</table>\n",
       "</div>"
      ],
      "text/plain": [
       "    chr    start      end  methyl  de_methyl\n",
       "0  chr1  2999601  3001600      80         12\n",
       "1  chr1  3000001  3002000     113         12\n",
       "2  chr1  3000401  3002400     113         12\n",
       "3  chr1  3000801  3002800     113         12\n",
       "4  chr1  3001201  3003200      33          0"
      ]
     },
     "execution_count": 14,
     "metadata": {},
     "output_type": "execute_result"
    }
   ],
   "source": [
    "bed.head()"
   ]
  },
  {
   "cell_type": "code",
   "execution_count": null,
   "metadata": {},
   "outputs": [],
   "source": []
  }
 ],
 "metadata": {
  "kernelspec": {
   "display_name": "Python [default]",
   "language": "python",
   "name": "python3"
  },
  "language_info": {
   "codemirror_mode": {
    "name": "ipython",
    "version": 3
   },
   "file_extension": ".py",
   "mimetype": "text/x-python",
   "name": "python",
   "nbconvert_exporter": "python",
   "pygments_lexer": "ipython3",
   "version": "3.5.4"
  }
 },
 "nbformat": 4,
 "nbformat_minor": 2
}
